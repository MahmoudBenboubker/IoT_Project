{
 "cells": [
  {
   "cell_type": "markdown",
   "metadata": {
    "id": "aBHFLyWdzutE"
   },
   "source": [
    "Projet réalisé par :  \n",
    "Mahmoud Benboubker  \n",
    "Nicolas Calligaro  \n",
    "Aïcha Lalhou  \n"
   ]
  },
  {
   "cell_type": "markdown",
   "metadata": {
    "id": "8gapP7PFzuPY"
   },
   "source": [
    "# Notebook 0 : Soumission des résultats\n",
    "\n",
    "Ce notebook permet de produire le fichier csv solution"
   ]
  },
  {
   "cell_type": "code",
   "execution_count": 4,
   "metadata": {
    "id": "sp0QpEf3zuPi"
   },
   "outputs": [],
   "source": [
    "import pandas as pd\n",
    "import numpy as np\n",
    "import matplotlib.pyplot as plt\n",
    "\n",
    "# Import des librairies de Nicolas \n",
    "from IpyTools import *\n",
    "from IotTools import *\n",
    "pd.options.mode.chained_assignment = None  # default='warn'\n",
    "\n",
    "\n",
    "# Import des modèles à utiliser\n",
    "from sklearn.ensemble import VotingRegressor\n",
    "from sklearn.ensemble import RandomForestRegressor\n",
    "import xgboost as xgb\n",
    "from sklearn.ensemble import GradientBoostingRegressor\n",
    "from sklearn.ensemble import BaggingRegressor\n",
    "from sklearn.tree import ExtraTreeRegressor"
   ]
  },
  {
   "cell_type": "markdown",
   "metadata": {},
   "source": [
    "### Import des données"
   ]
  },
  {
   "cell_type": "code",
   "execution_count": 7,
   "metadata": {},
   "outputs": [],
   "source": [
    "path=\"\""
   ]
  },
  {
   "cell_type": "code",
   "execution_count": 8,
   "metadata": {
    "id": "j4rQKj6cz4cF"
   },
   "outputs": [],
   "source": [
    "df_mess_train = pd.read_csv(path+'mess_train_list.csv')\n",
    "df_mess_test = pd.read_csv(path+'mess_test_list.csv')\n",
    "pos_train = pd.read_csv(path+'pos_train_list.csv')\n"
   ]
  },
  {
   "cell_type": "markdown",
   "metadata": {},
   "source": [
    "### Préprocessing des données d'entrainement"
   ]
  },
  {
   "cell_type": "code",
   "execution_count": 28,
   "metadata": {},
   "outputs": [],
   "source": [
    "X_train = df_mess_train\n",
    "listOfBs = np.union1d(df_mess_train.bsid.unique(),df_mess_test.bsid.unique())"
   ]
  },
  {
   "cell_type": "code",
   "execution_count": 29,
   "metadata": {},
   "outputs": [
    {
     "name": "stdout",
     "output_type": "stream",
     "text": [
      "Nous avons 27 bases outliers\n",
      "Base 9949 non vu\n",
      "il reste 0 base avec lat >60\n"
     ]
    }
   ],
   "source": [
    "X_train=Correct_Bases(df_mess_train)"
   ]
  },
  {
   "cell_type": "code",
   "execution_count": 30,
   "metadata": {},
   "outputs": [
    {
     "data": {
      "text/plain": [
       "(24967, 8)"
      ]
     },
     "execution_count": 30,
     "metadata": {},
     "output_type": "execute_result"
    }
   ],
   "source": [
    "X_train = X_train[~X_train.did.isin([476212., 476830., 476861., 476256,477201, 476829.,476609.,476327,476315,476835,476598,476889,474192,473288])]\n",
    "X_train.shape"
   ]
  },
  {
   "cell_type": "markdown",
   "metadata": {},
   "source": [
    "#### Création de la matrice des features"
   ]
  },
  {
   "cell_type": "code",
   "execution_count": 31,
   "metadata": {},
   "outputs": [
    {
     "data": {
      "text/plain": [
       "((4122, 3), (4122, 273))"
      ]
     },
     "execution_count": 31,
     "metadata": {},
     "output_type": "execute_result"
    }
   ],
   "source": [
    "df_feat, id_list=feat_mat_const(X_train, listOfBs)\n",
    "\n",
    "y_full = ground_truth_const(X_train, pos_train, id_list)\n",
    "y_full.shape,df_feat.shape"
   ]
  },
  {
   "cell_type": "markdown",
   "metadata": {},
   "source": [
    "#### Implémentation du modèle de prediction\n",
    "On utilise un modèle VotingRegressor qui est l'aggregation des 5 modèles suivant :"
   ]
  },
  {
   "cell_type": "code",
   "execution_count": 34,
   "metadata": {},
   "outputs": [],
   "source": [
    "def get_tuned_estimators(coord) : \n",
    "    return [('RandomForestRegressor_lat', RandomForestRegressor(**get_hyperparameter(\"RandomForestRegressor\",coord))),\n",
    "      ('ExtrasTreeRegressor', ExtraTreeRegressor(**get_hyperparameter(\"ExtraTreeRegressor\",coord))),\n",
    "     ('GradientBoostingRegressor', GradientBoostingRegressor(**get_hyperparameter(\"GradientBoostingRegressor\",coord))),\n",
    "     ('XGBRegressor', xgb.XGBRegressor(**get_hyperparameter(\"XGBRegressor\",coord))),\n",
    "     ('BaggingRegressor', BaggingRegressor(**get_hyperparameter(\"BaggingRegressor\",coord)))]"
   ]
  },
  {
   "cell_type": "code",
   "execution_count": 36,
   "metadata": {},
   "outputs": [],
   "source": [
    "estimators_lat = get_tuned_estimators(\"lat\")\n",
    "estimators_lng = get_tuned_estimators(\"lng\")"
   ]
  },
  {
   "cell_type": "markdown",
   "metadata": {},
   "source": [
    "#### Entrainement du VotingRegressor"
   ]
  },
  {
   "cell_type": "code",
   "execution_count": 37,
   "metadata": {},
   "outputs": [],
   "source": [
    "reg_lat = VotingRegressor(estimators=estimators_lat,n_jobs=-1)\n",
    "reg_long = VotingRegressor(estimators=estimators_lng, n_jobs=-1)"
   ]
  },
  {
   "cell_type": "code",
   "execution_count": 39,
   "metadata": {
    "collapsed": true
   },
   "outputs": [
    {
     "data": {
      "text/plain": [
       "VotingRegressor(estimators=[('RandomForestRegressor_lat',\n",
       "                             RandomForestRegressor(criterion='mae',\n",
       "                                                   max_depth=10,\n",
       "                                                   n_estimators=25)),\n",
       "                            ('ExtrasTreeRegressor',\n",
       "                             ExtraTreeRegressor(criterion='friedman_mse',\n",
       "                                                max_depth=8, splitter='best')),\n",
       "                            ('GradientBoostingRegressor',\n",
       "                             GradientBoostingRegressor(learning_rate=0.2,\n",
       "                                                       max_depth=4,\n",
       "                                                       subsample=0.8)),\n",
       "                            ('XGBRegressor',\n",
       "                             XGBRegress...\n",
       "                                          max_delta_step=None, max_depth=4,\n",
       "                                          min_child_weight=None, missing=nan,\n",
       "                                          monotone_constraints=None,\n",
       "                                          n_estimators=100, n_jobs=None,\n",
       "                                          num_parallel_tree=None,\n",
       "                                          random_state=None, reg_alpha=None,\n",
       "                                          reg_lambda=None,\n",
       "                                          scale_pos_weight=None, subsample=0.9,\n",
       "                                          tree_method=None,\n",
       "                                          validate_parameters=None,\n",
       "                                          verbosity=None)),\n",
       "                            ('BaggingRegressor',\n",
       "                             BaggingRegressor(n_estimators=100))],\n",
       "                n_jobs=-1)"
      ]
     },
     "execution_count": 39,
     "metadata": {},
     "output_type": "execute_result"
    }
   ],
   "source": [
    "reg_lat.fit(df_feat,y_full.lat)\n",
    "reg_long.fit(df_feat,y_full.lng)"
   ]
  },
  {
   "cell_type": "markdown",
   "metadata": {},
   "source": [
    "### Préprocessing des données de test"
   ]
  },
  {
   "cell_type": "code",
   "execution_count": 40,
   "metadata": {},
   "outputs": [
    {
     "name": "stdout",
     "output_type": "stream",
     "text": [
      "Nous avons 23 bases outliers\n",
      "Correction manuelle de la bsid 9949\n",
      "il reste 0 base avec lat >60\n"
     ]
    }
   ],
   "source": [
    "X_test = df_mess_test\n",
    "X_test=Correct_Bases(df_mess_test)\n",
    "df_feat_test, id_list_test=feat_mat_const(X_test, listOfBs)"
   ]
  },
  {
   "cell_type": "markdown",
   "metadata": {},
   "source": [
    "#### Prédiction des données de test"
   ]
  },
  {
   "cell_type": "code",
   "execution_count": 41,
   "metadata": {},
   "outputs": [],
   "source": [
    "preds_lat = reg_lat.predict(df_feat_test)\n",
    "preds_lng = reg_long.predict(df_feat_test)"
   ]
  },
  {
   "cell_type": "markdown",
   "metadata": {},
   "source": [
    "### Création du fichier final\n",
    "On crée un nouveau DataFrame comprenant la longitude et latitude prédites pour chaque message."
   ]
  },
  {
   "cell_type": "code",
   "execution_count": 51,
   "metadata": {},
   "outputs": [
    {
     "data": {
      "text/html": [
       "<div>\n",
       "<style scoped>\n",
       "    .dataframe tbody tr th:only-of-type {\n",
       "        vertical-align: middle;\n",
       "    }\n",
       "\n",
       "    .dataframe tbody tr th {\n",
       "        vertical-align: top;\n",
       "    }\n",
       "\n",
       "    .dataframe thead th {\n",
       "        text-align: right;\n",
       "    }\n",
       "</style>\n",
       "<table border=\"1\" class=\"dataframe\">\n",
       "  <thead>\n",
       "    <tr style=\"text-align: right;\">\n",
       "      <th></th>\n",
       "      <th>879</th>\n",
       "      <th>911</th>\n",
       "      <th>921</th>\n",
       "      <th>944</th>\n",
       "      <th>980</th>\n",
       "      <th>1012</th>\n",
       "      <th>1086</th>\n",
       "      <th>1092</th>\n",
       "      <th>1120</th>\n",
       "      <th>1131</th>\n",
       "      <th>...</th>\n",
       "      <th>min_x</th>\n",
       "      <th>max_x</th>\n",
       "      <th>mean_y</th>\n",
       "      <th>min_y</th>\n",
       "      <th>max_y</th>\n",
       "      <th>BCW_lat</th>\n",
       "      <th>BCW_lng</th>\n",
       "      <th>lat</th>\n",
       "      <th>lng</th>\n",
       "      <th>messid</th>\n",
       "    </tr>\n",
       "    <tr>\n",
       "      <th>messid</th>\n",
       "      <th></th>\n",
       "      <th></th>\n",
       "      <th></th>\n",
       "      <th></th>\n",
       "      <th></th>\n",
       "      <th></th>\n",
       "      <th></th>\n",
       "      <th></th>\n",
       "      <th></th>\n",
       "      <th></th>\n",
       "      <th></th>\n",
       "      <th></th>\n",
       "      <th></th>\n",
       "      <th></th>\n",
       "      <th></th>\n",
       "      <th></th>\n",
       "      <th></th>\n",
       "      <th></th>\n",
       "      <th></th>\n",
       "      <th></th>\n",
       "      <th></th>\n",
       "    </tr>\n",
       "  </thead>\n",
       "  <tbody>\n",
       "    <tr>\n",
       "      <th>573be2503e952e191262c351</th>\n",
       "      <td>0.0</td>\n",
       "      <td>0.0</td>\n",
       "      <td>0.0</td>\n",
       "      <td>0.0</td>\n",
       "      <td>0.0</td>\n",
       "      <td>0.0</td>\n",
       "      <td>0.0</td>\n",
       "      <td>0.0</td>\n",
       "      <td>0.0</td>\n",
       "      <td>0.0</td>\n",
       "      <td>...</td>\n",
       "      <td>39.728651</td>\n",
       "      <td>39.728651</td>\n",
       "      <td>-105.163032</td>\n",
       "      <td>-105.163032</td>\n",
       "      <td>-105.163032</td>\n",
       "      <td>39.728651</td>\n",
       "      <td>-105.163032</td>\n",
       "      <td>39.711442</td>\n",
       "      <td>-105.070108</td>\n",
       "      <td>573be2503e952e191262c351</td>\n",
       "    </tr>\n",
       "    <tr>\n",
       "      <th>573c05f83e952e1912758013</th>\n",
       "      <td>0.0</td>\n",
       "      <td>0.0</td>\n",
       "      <td>0.0</td>\n",
       "      <td>0.0</td>\n",
       "      <td>0.0</td>\n",
       "      <td>0.0</td>\n",
       "      <td>0.0</td>\n",
       "      <td>0.0</td>\n",
       "      <td>0.0</td>\n",
       "      <td>0.0</td>\n",
       "      <td>...</td>\n",
       "      <td>39.728651</td>\n",
       "      <td>39.783211</td>\n",
       "      <td>-105.094321</td>\n",
       "      <td>-105.165355</td>\n",
       "      <td>-105.053676</td>\n",
       "      <td>39.782587</td>\n",
       "      <td>-105.088273</td>\n",
       "      <td>39.775869</td>\n",
       "      <td>-105.081261</td>\n",
       "      <td>573c05f83e952e1912758013</td>\n",
       "    </tr>\n",
       "    <tr>\n",
       "      <th>573c0796f0fe6e735a66deb3</th>\n",
       "      <td>0.0</td>\n",
       "      <td>0.0</td>\n",
       "      <td>0.0</td>\n",
       "      <td>0.0</td>\n",
       "      <td>0.0</td>\n",
       "      <td>0.0</td>\n",
       "      <td>0.0</td>\n",
       "      <td>0.0</td>\n",
       "      <td>0.0</td>\n",
       "      <td>0.0</td>\n",
       "      <td>...</td>\n",
       "      <td>39.612745</td>\n",
       "      <td>39.704887</td>\n",
       "      <td>-105.028319</td>\n",
       "      <td>-105.044371</td>\n",
       "      <td>-105.008827</td>\n",
       "      <td>39.660943</td>\n",
       "      <td>-105.040357</td>\n",
       "      <td>39.687977</td>\n",
       "      <td>-105.010527</td>\n",
       "      <td>573c0796f0fe6e735a66deb3</td>\n",
       "    </tr>\n",
       "    <tr>\n",
       "      <th>573c08d2864fce1a9a0563bc</th>\n",
       "      <td>0.0</td>\n",
       "      <td>0.0</td>\n",
       "      <td>0.0</td>\n",
       "      <td>0.0</td>\n",
       "      <td>0.0</td>\n",
       "      <td>0.0</td>\n",
       "      <td>0.0</td>\n",
       "      <td>0.0</td>\n",
       "      <td>0.0</td>\n",
       "      <td>0.0</td>\n",
       "      <td>...</td>\n",
       "      <td>39.782113</td>\n",
       "      <td>39.782113</td>\n",
       "      <td>-105.072701</td>\n",
       "      <td>-105.072701</td>\n",
       "      <td>-105.072701</td>\n",
       "      <td>39.782113</td>\n",
       "      <td>-105.072701</td>\n",
       "      <td>39.781609</td>\n",
       "      <td>-105.074490</td>\n",
       "      <td>573c08d2864fce1a9a0563bc</td>\n",
       "    </tr>\n",
       "    <tr>\n",
       "      <th>573c08ff864fce1a9a0579b0</th>\n",
       "      <td>0.0</td>\n",
       "      <td>0.0</td>\n",
       "      <td>0.0</td>\n",
       "      <td>0.0</td>\n",
       "      <td>0.0</td>\n",
       "      <td>0.0</td>\n",
       "      <td>0.0</td>\n",
       "      <td>0.0</td>\n",
       "      <td>0.0</td>\n",
       "      <td>0.0</td>\n",
       "      <td>...</td>\n",
       "      <td>39.612745</td>\n",
       "      <td>39.704887</td>\n",
       "      <td>-105.028319</td>\n",
       "      <td>-105.044371</td>\n",
       "      <td>-105.008827</td>\n",
       "      <td>39.660387</td>\n",
       "      <td>-105.039809</td>\n",
       "      <td>39.688371</td>\n",
       "      <td>-105.007965</td>\n",
       "      <td>573c08ff864fce1a9a0579b0</td>\n",
       "    </tr>\n",
       "  </tbody>\n",
       "</table>\n",
       "<p>5 rows × 276 columns</p>\n",
       "</div>"
      ],
      "text/plain": [
       "                          879  911  921  944  980  1012  1086  1092  1120  \\\n",
       "messid                                                                      \n",
       "573be2503e952e191262c351  0.0  0.0  0.0  0.0  0.0   0.0   0.0   0.0   0.0   \n",
       "573c05f83e952e1912758013  0.0  0.0  0.0  0.0  0.0   0.0   0.0   0.0   0.0   \n",
       "573c0796f0fe6e735a66deb3  0.0  0.0  0.0  0.0  0.0   0.0   0.0   0.0   0.0   \n",
       "573c08d2864fce1a9a0563bc  0.0  0.0  0.0  0.0  0.0   0.0   0.0   0.0   0.0   \n",
       "573c08ff864fce1a9a0579b0  0.0  0.0  0.0  0.0  0.0   0.0   0.0   0.0   0.0   \n",
       "\n",
       "                          1131  ...      min_x      max_x      mean_y  \\\n",
       "messid                          ...                                     \n",
       "573be2503e952e191262c351   0.0  ...  39.728651  39.728651 -105.163032   \n",
       "573c05f83e952e1912758013   0.0  ...  39.728651  39.783211 -105.094321   \n",
       "573c0796f0fe6e735a66deb3   0.0  ...  39.612745  39.704887 -105.028319   \n",
       "573c08d2864fce1a9a0563bc   0.0  ...  39.782113  39.782113 -105.072701   \n",
       "573c08ff864fce1a9a0579b0   0.0  ...  39.612745  39.704887 -105.028319   \n",
       "\n",
       "                               min_y       max_y    BCW_lat     BCW_lng  \\\n",
       "messid                                                                    \n",
       "573be2503e952e191262c351 -105.163032 -105.163032  39.728651 -105.163032   \n",
       "573c05f83e952e1912758013 -105.165355 -105.053676  39.782587 -105.088273   \n",
       "573c0796f0fe6e735a66deb3 -105.044371 -105.008827  39.660943 -105.040357   \n",
       "573c08d2864fce1a9a0563bc -105.072701 -105.072701  39.782113 -105.072701   \n",
       "573c08ff864fce1a9a0579b0 -105.044371 -105.008827  39.660387 -105.039809   \n",
       "\n",
       "                                lat         lng                    messid  \n",
       "messid                                                                     \n",
       "573be2503e952e191262c351  39.711442 -105.070108  573be2503e952e191262c351  \n",
       "573c05f83e952e1912758013  39.775869 -105.081261  573c05f83e952e1912758013  \n",
       "573c0796f0fe6e735a66deb3  39.687977 -105.010527  573c0796f0fe6e735a66deb3  \n",
       "573c08d2864fce1a9a0563bc  39.781609 -105.074490  573c08d2864fce1a9a0563bc  \n",
       "573c08ff864fce1a9a0579b0  39.688371 -105.007965  573c08ff864fce1a9a0579b0  \n",
       "\n",
       "[5 rows x 276 columns]"
      ]
     },
     "execution_count": 51,
     "metadata": {},
     "output_type": "execute_result"
    }
   ],
   "source": [
    "df_feat_test[\"lat\"] = preds_lat\n",
    "df_feat_test[\"lng\"] = preds_lng\n",
    "df_feat_test[\"messid\"] = df_feat_test.index\n",
    "df_feat_test.head()"
   ]
  },
  {
   "cell_type": "markdown",
   "metadata": {},
   "source": [
    "On réalise une jointure entre le Dataframe créé et du dataframe *df_mess_test*"
   ]
  },
  {
   "cell_type": "code",
   "execution_count": 62,
   "metadata": {},
   "outputs": [
    {
     "data": {
      "text/html": [
       "<div>\n",
       "<style scoped>\n",
       "    .dataframe tbody tr th:only-of-type {\n",
       "        vertical-align: middle;\n",
       "    }\n",
       "\n",
       "    .dataframe tbody tr th {\n",
       "        vertical-align: top;\n",
       "    }\n",
       "\n",
       "    .dataframe thead th {\n",
       "        text-align: right;\n",
       "    }\n",
       "</style>\n",
       "<table border=\"1\" class=\"dataframe\">\n",
       "  <thead>\n",
       "    <tr style=\"text-align: right;\">\n",
       "      <th></th>\n",
       "      <th>messid_left</th>\n",
       "      <th>bsid</th>\n",
       "      <th>did</th>\n",
       "      <th>nseq</th>\n",
       "      <th>rssi</th>\n",
       "      <th>time_ux</th>\n",
       "      <th>bs_lat</th>\n",
       "      <th>bs_lng</th>\n",
       "      <th>messid_right</th>\n",
       "      <th>lat</th>\n",
       "      <th>lng</th>\n",
       "    </tr>\n",
       "  </thead>\n",
       "  <tbody>\n",
       "    <tr>\n",
       "      <th>0</th>\n",
       "      <td>573be2503e952e191262c351</td>\n",
       "      <td>3578</td>\n",
       "      <td>116539.0</td>\n",
       "      <td>2.0</td>\n",
       "      <td>-111.000000</td>\n",
       "      <td>1.463542e+12</td>\n",
       "      <td>39.728651</td>\n",
       "      <td>-105.163032</td>\n",
       "      <td>573be2503e952e191262c351</td>\n",
       "      <td>39.711442</td>\n",
       "      <td>-105.070108</td>\n",
       "    </tr>\n",
       "    <tr>\n",
       "      <th>1</th>\n",
       "      <td>573c05f83e952e1912758013</td>\n",
       "      <td>2617</td>\n",
       "      <td>472504.0</td>\n",
       "      <td>0.0</td>\n",
       "      <td>-136.000000</td>\n",
       "      <td>1.463551e+12</td>\n",
       "      <td>39.779908</td>\n",
       "      <td>-105.062479</td>\n",
       "      <td>573c05f83e952e1912758013</td>\n",
       "      <td>39.775869</td>\n",
       "      <td>-105.081261</td>\n",
       "    </tr>\n",
       "    <tr>\n",
       "      <th>2</th>\n",
       "      <td>573c05f83e952e1912758013</td>\n",
       "      <td>3556</td>\n",
       "      <td>472504.0</td>\n",
       "      <td>0.0</td>\n",
       "      <td>-127.000000</td>\n",
       "      <td>1.463551e+12</td>\n",
       "      <td>39.780658</td>\n",
       "      <td>-105.053676</td>\n",
       "      <td>573c05f83e952e1912758013</td>\n",
       "      <td>39.775869</td>\n",
       "      <td>-105.081261</td>\n",
       "    </tr>\n",
       "    <tr>\n",
       "      <th>3</th>\n",
       "      <td>573c05f83e952e1912758013</td>\n",
       "      <td>3578</td>\n",
       "      <td>472504.0</td>\n",
       "      <td>0.0</td>\n",
       "      <td>-129.000000</td>\n",
       "      <td>1.463551e+12</td>\n",
       "      <td>39.728651</td>\n",
       "      <td>-105.163032</td>\n",
       "      <td>573c05f83e952e1912758013</td>\n",
       "      <td>39.775869</td>\n",
       "      <td>-105.081261</td>\n",
       "    </tr>\n",
       "    <tr>\n",
       "      <th>4</th>\n",
       "      <td>573c05f83e952e1912758013</td>\n",
       "      <td>4058</td>\n",
       "      <td>472504.0</td>\n",
       "      <td>0.0</td>\n",
       "      <td>-105.000000</td>\n",
       "      <td>1.463551e+12</td>\n",
       "      <td>39.783211</td>\n",
       "      <td>-105.088747</td>\n",
       "      <td>573c05f83e952e1912758013</td>\n",
       "      <td>39.775869</td>\n",
       "      <td>-105.081261</td>\n",
       "    </tr>\n",
       "    <tr>\n",
       "      <th>...</th>\n",
       "      <td>...</td>\n",
       "      <td>...</td>\n",
       "      <td>...</td>\n",
       "      <td>...</td>\n",
       "      <td>...</td>\n",
       "      <td>...</td>\n",
       "      <td>...</td>\n",
       "      <td>...</td>\n",
       "      <td>...</td>\n",
       "      <td>...</td>\n",
       "      <td>...</td>\n",
       "    </tr>\n",
       "    <tr>\n",
       "      <th>29281</th>\n",
       "      <td>58485da512f14360d78d5378</td>\n",
       "      <td>2846</td>\n",
       "      <td>472397.0</td>\n",
       "      <td>1.0</td>\n",
       "      <td>-130.500000</td>\n",
       "      <td>1.481138e+12</td>\n",
       "      <td>39.666188</td>\n",
       "      <td>-105.077530</td>\n",
       "      <td>58485da512f14360d78d5378</td>\n",
       "      <td>39.671604</td>\n",
       "      <td>-105.019111</td>\n",
       "    </tr>\n",
       "    <tr>\n",
       "      <th>29282</th>\n",
       "      <td>58485da512f14360d78d5378</td>\n",
       "      <td>3025</td>\n",
       "      <td>472397.0</td>\n",
       "      <td>1.0</td>\n",
       "      <td>-117.333333</td>\n",
       "      <td>1.481138e+12</td>\n",
       "      <td>39.654682</td>\n",
       "      <td>-105.043685</td>\n",
       "      <td>58485da512f14360d78d5378</td>\n",
       "      <td>39.671604</td>\n",
       "      <td>-105.019111</td>\n",
       "    </tr>\n",
       "    <tr>\n",
       "      <th>29283</th>\n",
       "      <td>58486d71e541cd0e1337e073</td>\n",
       "      <td>2605</td>\n",
       "      <td>472397.0</td>\n",
       "      <td>0.0</td>\n",
       "      <td>-137.000000</td>\n",
       "      <td>1.481142e+12</td>\n",
       "      <td>39.612745</td>\n",
       "      <td>-105.008827</td>\n",
       "      <td>58486d71e541cd0e1337e073</td>\n",
       "      <td>39.672945</td>\n",
       "      <td>-105.016337</td>\n",
       "    </tr>\n",
       "    <tr>\n",
       "      <th>29284</th>\n",
       "      <td>58486d71e541cd0e1337e073</td>\n",
       "      <td>2846</td>\n",
       "      <td>472397.0</td>\n",
       "      <td>1.0</td>\n",
       "      <td>-132.666667</td>\n",
       "      <td>1.481142e+12</td>\n",
       "      <td>39.666188</td>\n",
       "      <td>-105.077530</td>\n",
       "      <td>58486d71e541cd0e1337e073</td>\n",
       "      <td>39.672945</td>\n",
       "      <td>-105.016337</td>\n",
       "    </tr>\n",
       "    <tr>\n",
       "      <th>29285</th>\n",
       "      <td>58486d71e541cd0e1337e073</td>\n",
       "      <td>3025</td>\n",
       "      <td>472397.0</td>\n",
       "      <td>1.0</td>\n",
       "      <td>-124.666667</td>\n",
       "      <td>1.481142e+12</td>\n",
       "      <td>39.654682</td>\n",
       "      <td>-105.043685</td>\n",
       "      <td>58486d71e541cd0e1337e073</td>\n",
       "      <td>39.672945</td>\n",
       "      <td>-105.016337</td>\n",
       "    </tr>\n",
       "  </tbody>\n",
       "</table>\n",
       "<p>29286 rows × 11 columns</p>\n",
       "</div>"
      ],
      "text/plain": [
       "                    messid_left  bsid       did  nseq        rssi  \\\n",
       "0      573be2503e952e191262c351  3578  116539.0   2.0 -111.000000   \n",
       "1      573c05f83e952e1912758013  2617  472504.0   0.0 -136.000000   \n",
       "2      573c05f83e952e1912758013  3556  472504.0   0.0 -127.000000   \n",
       "3      573c05f83e952e1912758013  3578  472504.0   0.0 -129.000000   \n",
       "4      573c05f83e952e1912758013  4058  472504.0   0.0 -105.000000   \n",
       "...                         ...   ...       ...   ...         ...   \n",
       "29281  58485da512f14360d78d5378  2846  472397.0   1.0 -130.500000   \n",
       "29282  58485da512f14360d78d5378  3025  472397.0   1.0 -117.333333   \n",
       "29283  58486d71e541cd0e1337e073  2605  472397.0   0.0 -137.000000   \n",
       "29284  58486d71e541cd0e1337e073  2846  472397.0   1.0 -132.666667   \n",
       "29285  58486d71e541cd0e1337e073  3025  472397.0   1.0 -124.666667   \n",
       "\n",
       "            time_ux     bs_lat      bs_lng              messid_right  \\\n",
       "0      1.463542e+12  39.728651 -105.163032  573be2503e952e191262c351   \n",
       "1      1.463551e+12  39.779908 -105.062479  573c05f83e952e1912758013   \n",
       "2      1.463551e+12  39.780658 -105.053676  573c05f83e952e1912758013   \n",
       "3      1.463551e+12  39.728651 -105.163032  573c05f83e952e1912758013   \n",
       "4      1.463551e+12  39.783211 -105.088747  573c05f83e952e1912758013   \n",
       "...             ...        ...         ...                       ...   \n",
       "29281  1.481138e+12  39.666188 -105.077530  58485da512f14360d78d5378   \n",
       "29282  1.481138e+12  39.654682 -105.043685  58485da512f14360d78d5378   \n",
       "29283  1.481142e+12  39.612745 -105.008827  58486d71e541cd0e1337e073   \n",
       "29284  1.481142e+12  39.666188 -105.077530  58486d71e541cd0e1337e073   \n",
       "29285  1.481142e+12  39.654682 -105.043685  58486d71e541cd0e1337e073   \n",
       "\n",
       "             lat         lng  \n",
       "0      39.711442 -105.070108  \n",
       "1      39.775869 -105.081261  \n",
       "2      39.775869 -105.081261  \n",
       "3      39.775869 -105.081261  \n",
       "4      39.775869 -105.081261  \n",
       "...          ...         ...  \n",
       "29281  39.671604 -105.019111  \n",
       "29282  39.671604 -105.019111  \n",
       "29283  39.672945 -105.016337  \n",
       "29284  39.672945 -105.016337  \n",
       "29285  39.672945 -105.016337  \n",
       "\n",
       "[29286 rows x 11 columns]"
      ]
     },
     "execution_count": 62,
     "metadata": {},
     "output_type": "execute_result"
    }
   ],
   "source": [
    "df_mess_test_final = df_mess_test.join(other = df_feat_test[[\"messid\",\"lat\",\"lng\"]],on=\"messid\", how = 'left', lsuffix = '_left', rsuffix = '_right')\n",
    "df_mess_test_final"
   ]
  },
  {
   "cell_type": "markdown",
   "metadata": {},
   "source": [
    "On crée le fichier résultat suivant le même template que *pos_train.csv*"
   ]
  },
  {
   "cell_type": "code",
   "execution_count": 66,
   "metadata": {},
   "outputs": [],
   "source": [
    "pos_test = df_mess_test_final[[\"lat\",\"lng\"]]\n",
    "pos_test.to_csv(\"pos_test.csv\",index=False)"
   ]
  },
  {
   "cell_type": "markdown",
   "metadata": {},
   "source": [
    "Aperçu du ficher produit"
   ]
  },
  {
   "cell_type": "code",
   "execution_count": 67,
   "metadata": {},
   "outputs": [
    {
     "data": {
      "text/html": [
       "<div>\n",
       "<style scoped>\n",
       "    .dataframe tbody tr th:only-of-type {\n",
       "        vertical-align: middle;\n",
       "    }\n",
       "\n",
       "    .dataframe tbody tr th {\n",
       "        vertical-align: top;\n",
       "    }\n",
       "\n",
       "    .dataframe thead th {\n",
       "        text-align: right;\n",
       "    }\n",
       "</style>\n",
       "<table border=\"1\" class=\"dataframe\">\n",
       "  <thead>\n",
       "    <tr style=\"text-align: right;\">\n",
       "      <th></th>\n",
       "      <th>lat</th>\n",
       "      <th>lng</th>\n",
       "    </tr>\n",
       "  </thead>\n",
       "  <tbody>\n",
       "    <tr>\n",
       "      <th>0</th>\n",
       "      <td>39.711442</td>\n",
       "      <td>-105.070108</td>\n",
       "    </tr>\n",
       "    <tr>\n",
       "      <th>1</th>\n",
       "      <td>39.775869</td>\n",
       "      <td>-105.081261</td>\n",
       "    </tr>\n",
       "    <tr>\n",
       "      <th>2</th>\n",
       "      <td>39.775869</td>\n",
       "      <td>-105.081261</td>\n",
       "    </tr>\n",
       "    <tr>\n",
       "      <th>3</th>\n",
       "      <td>39.775869</td>\n",
       "      <td>-105.081261</td>\n",
       "    </tr>\n",
       "    <tr>\n",
       "      <th>4</th>\n",
       "      <td>39.775869</td>\n",
       "      <td>-105.081261</td>\n",
       "    </tr>\n",
       "    <tr>\n",
       "      <th>...</th>\n",
       "      <td>...</td>\n",
       "      <td>...</td>\n",
       "    </tr>\n",
       "    <tr>\n",
       "      <th>29281</th>\n",
       "      <td>39.671604</td>\n",
       "      <td>-105.019111</td>\n",
       "    </tr>\n",
       "    <tr>\n",
       "      <th>29282</th>\n",
       "      <td>39.671604</td>\n",
       "      <td>-105.019111</td>\n",
       "    </tr>\n",
       "    <tr>\n",
       "      <th>29283</th>\n",
       "      <td>39.672945</td>\n",
       "      <td>-105.016337</td>\n",
       "    </tr>\n",
       "    <tr>\n",
       "      <th>29284</th>\n",
       "      <td>39.672945</td>\n",
       "      <td>-105.016337</td>\n",
       "    </tr>\n",
       "    <tr>\n",
       "      <th>29285</th>\n",
       "      <td>39.672945</td>\n",
       "      <td>-105.016337</td>\n",
       "    </tr>\n",
       "  </tbody>\n",
       "</table>\n",
       "<p>29286 rows × 2 columns</p>\n",
       "</div>"
      ],
      "text/plain": [
       "             lat         lng\n",
       "0      39.711442 -105.070108\n",
       "1      39.775869 -105.081261\n",
       "2      39.775869 -105.081261\n",
       "3      39.775869 -105.081261\n",
       "4      39.775869 -105.081261\n",
       "...          ...         ...\n",
       "29281  39.671604 -105.019111\n",
       "29282  39.671604 -105.019111\n",
       "29283  39.672945 -105.016337\n",
       "29284  39.672945 -105.016337\n",
       "29285  39.672945 -105.016337\n",
       "\n",
       "[29286 rows x 2 columns]"
      ]
     },
     "execution_count": 67,
     "metadata": {},
     "output_type": "execute_result"
    }
   ],
   "source": [
    "pd.read_csv(\"pos_test.csv\")"
   ]
  }
 ],
 "metadata": {
  "colab": {
   "collapsed_sections": [],
   "name": "0_Soumission.ipynb",
   "provenance": []
  },
  "kernelspec": {
   "display_name": "Python 3",
   "language": "python",
   "name": "python3"
  },
  "language_info": {
   "codemirror_mode": {
    "name": "ipython",
    "version": 3
   },
   "file_extension": ".py",
   "mimetype": "text/x-python",
   "name": "python",
   "nbconvert_exporter": "python",
   "pygments_lexer": "ipython3",
   "version": "3.8.5"
  }
 },
 "nbformat": 4,
 "nbformat_minor": 1
}
